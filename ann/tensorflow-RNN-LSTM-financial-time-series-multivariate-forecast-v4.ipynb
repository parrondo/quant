{
 "cells": [
  {
   "cell_type": "code",
   "execution_count": 9,
   "metadata": {
    "code_folding": [],
    "collapsed": false,
    "scrolled": true
   },
   "outputs": [
    {
     "name": "stdout",
     "output_type": "stream",
     "text": [
      "total 252\n",
      "X 100\n",
      "days 5\n",
      "remainder 147\n",
      "train_batches 102\n",
      "test_batches 43\n",
      "0 \tMSE: 5.17371\n",
      "1 \tMSE: 3.50973\n",
      "2 \tMSE: 2.94531\n",
      "3 \tMSE: 2.74209\n",
      "4 \tMSE: 2.4964\n",
      "done training\n",
      "mse/loss:  1.61769 accuracy:  0.2\n",
      "mse/loss:  1.7074 accuracy:  0.2\n",
      "mse/loss:  1.70739 accuracy:  0.2\n",
      "mse/loss:  1.75089 accuracy:  0.2\n",
      "mse/loss:  1.60364 accuracy:  0.2\n",
      "done testing\n"
     ]
    }
   ],
   "source": [
    "%matplotlib inline\n",
    "import matplotlib\n",
    "import matplotlib.pyplot as plt\n",
    "plt.rcParams['axes.labelsize'] = 14\n",
    "plt.rcParams['xtick.labelsize'] = 12\n",
    "plt.rcParams['ytick.labelsize'] = 12\n",
    "import tensorflow as tf\n",
    "from tensorflow.contrib.layers import dropout\n",
    "import numpy as np\n",
    "import pandas as pd\n",
    "import pickle\n",
    "import sys\n",
    "np.set_printoptions(suppress=True)\n",
    "tf.reset_default_graph()\n",
    "\n",
    "# TODO / NEED TO IMPLEMENT\n",
    "# Avoid overfitting through regularization:\n",
    "# 1. Activation type = linear\n",
    "# 2. Optimizer - Adam\n",
    "# 3. Dropout layer: experiment with parameter\n",
    "# 4. early_stopping = EarlyStopping(monitor='val_loss', patience=3)\n",
    "# 5. rename to epochs and batches\n",
    "# 6. implement class class LossHistory\n",
    "# 7. implement TensorBoard to visualize training and accuracy testing\n",
    "# 8. test different activations and optimizers\n",
    "# END TODO\n",
    "\n",
    "# epoch (=1 full iteration) => 200 steps (# of batches) ==> to run batch of size 100  = 20,000 records\n",
    "# Define hyperparameters\n",
    "n_steps = 100  # length of each time series\n",
    "n_inputs = 1  # MEANING => number of columns\n",
    "n_neurons = 100\n",
    "n_outputs = 1\n",
    "n_layers = 5\n",
    "keep_prob = 0.5 # MEANING =>\n",
    "learning_rate = 0.0001\n",
    "is_training = True\n",
    "n_iterations = 10 #2000\n",
    "days = 5 # days to forecast\n",
    "training_set_percent_of_total = 0.7\n",
    "\n",
    "daysback=500 #training window, days\n",
    "X = tf.placeholder(tf.float32, [None, n_steps, n_inputs], name=\"regressorsX\")\n",
    "y = tf.placeholder(tf.float32, [None, days, n_outputs], name=\"dependentY\") \n",
    "\n",
    "tickers  = [\"FB\",\"MSFT\",\"AAPL\", \"AMZN\",\"GOOG\"] \n",
    "\n",
    "d1 = pickle.load(open(\"/home/ubuntu/portfolio/factors/stock_data.pkl\",\"rb\"))\n",
    "d2 = d1[d1[\"ticker\"].isin(tickers)][[\"Close\",\"ticker\"]]\n",
    "ts_df = d2.reset_index().pivot(index=\"Date\", columns='ticker', values='Close')[-252:]\n",
    "ts = ts_df.values\n",
    "\n",
    "def replaceOutlier(TS):\n",
    "    for n in list(TS.columns):\n",
    "        length = len(TS[n])\n",
    "        for i in range(0, length, 100):\n",
    "            p_mean = TS[n][i:i+100].mean()\n",
    "            l_bound = p_mean * 0.1 \n",
    "            u_bound = p_mean * 3 \n",
    "            TS[n][i:i+100][TS[n][i:i+100] > u_bound] = 0\n",
    "            TS[n][i:i+100][TS[n][i:i+100] < l_bound] = 0\n",
    "        TS[n].replace(to_replace=0, method='bfill', inplace = True)\n",
    "    return TS\n",
    "\n",
    "# OBJECTIVE: Prepare 3-d array [batch, ts, features] where ts is shifted by T+1 for each batch\n",
    "def PrepareTrainingBatches(ds): # dataframe [daily index, cols = closing PX by ticker]\n",
    "    X = n_steps\n",
    "    if len(ds) % 2 != 0:\n",
    "        ds.drop(ds.index[:1], inplace=True)\n",
    "    ds = replaceOutlier(ds[-daysback:]) \n",
    "    #ds = wave(ds) # reduce ts noise via wavelet\n",
    "    tickers = list(ds.columns)\n",
    "    total = len(ds)\n",
    "    #days = ds.shape[1] #days to forecast = total tickers in the portfolio subset\n",
    "    remainder = total - X - days\n",
    "    print(\"total\",total)\n",
    "    print(\"X\",X)\n",
    "    print(\"days\",days)\n",
    "    print(\"remainder\",remainder)\n",
    "    # *** NORMALIZE ****\n",
    "    d1 = ds.astype('float32')\n",
    "    df = np.nan_to_num(np.diff(np.log(d1), axis=0))  # Replace nan with zero and inf with finite numbers.\n",
    "    data = 1 / (1 + np.exp( (df - df.mean()) / df.std() )  )\n",
    "    features = ds.shape[1]  #num of dimensions aka columns                \n",
    "    # *** TRAIN & TEST DATA PREP ****\n",
    "    #print(\"remainder\",remainder)\n",
    "    baseX = np.asarray([data[i:X+i] for i in range(1,remainder-1)]) \n",
    "    #baseY = np.asarray([data[X+i] for i in range(1,remainder-1)])\n",
    "    baseY = np.asarray([data[X+i:X+i+days] for i in range(1,remainder-1)])\n",
    "    startX = int(np.round(training_set_percent_of_total*len(baseX),0))\n",
    "    startY = int(np.round(training_set_percent_of_total*len(baseY),0))\n",
    "    # Data to train TF RNN model on.\n",
    "    trainX = baseX[:startX]\n",
    "    trainY = baseY[:startY] # reshape input to be [# of batches, time steps, features]\n",
    "    # Data to predict out of sample and measure accuracy of the trained forecasting model\n",
    "    testX = baseX[startX:]\n",
    "    testY = baseY[startY:]\n",
    "    # BEGIN ACTUAL TIME SERIES FOR FORWARD TEST #\n",
    "    d1 =  np.nan_to_num(d1)  \n",
    "    ds_baseX = np.asarray([d1[i:X+i] for i in range(1,remainder-1)]) \n",
    "    #ds_baseY = np.asarray([d1[X+i] for i in range(1,remainder-1)])\n",
    "    ds_baseY = np.asarray([d1[X+i:X+i+days] for i in range(1,remainder-1)])\n",
    "    ds_startX = int(np.round(training_set_percent_of_total*len(ds_baseX),0))\n",
    "    ds_startY = int(np.round(training_set_percent_of_total*len(ds_baseY),0))\n",
    "    ds_trainX = ds_baseX[:ds_startX]\n",
    "    ds_trainY = ds_baseY[:ds_startY] # reshape input to be [# of batches, time steps, features]\n",
    "    ds_testX = ds_baseX[ds_startX:]\n",
    "    ds_testY = ds_baseY[ds_startY:]\n",
    "    # END ACTUAL TIME SERIES FOR FORWARD TEST #\n",
    "    # *** END TRAIN & TEST DATA PREP ****\n",
    "    return {\"trainX\":trainX,\"trainY\":trainY,\"testX\":testX,\"testY\":testY,\n",
    "           \"dfmean\":df.mean(), \"dfstd\":df.std(),\n",
    "            \"ds_trainX\":ds_trainX,\"ds_trainY\":ds_trainY,\"ds_testX\":ds_testX,\"ds_testY\":ds_testY,\n",
    "            \"train_batches\": len(trainX), \"test_batches\": len(testX)\n",
    "           }\n",
    "\n",
    "\n",
    "batch_data = PrepareTrainingBatches(ts_df)\n",
    "t1 = batch_data\n",
    "train_batches = batch_data[\"train_batches\"]\n",
    "test_batches = batch_data[\"test_batches\"]\n",
    "print(\"train_batches\",train_batches)\n",
    "print(\"test_batches\",test_batches)\n",
    "\n",
    "def next_batch(batch_type, i):\n",
    "    if batch_type == \"train\":\n",
    "        return batch_data.get(\"trainX\")[i], batch_data.get(\"trainY\")[i]\n",
    "    elif batch_type == \"test\":\n",
    "        return batch_data.get(\"testX\")[i], batch_data.get(\"testY\")[i], batch_data.get(\"ds_testX\")[i], batch_data.get(\"ds_testY\")[i]\n",
    "    else:\n",
    "        raise Exception(\"unknown batch type\")\n",
    "\n",
    "# GRAPH DEFINITION\n",
    "def deep_rnn_with_dropout(X, y, is_training):\n",
    "    cell = tf.contrib.rnn.BasicLSTMCell(num_units=n_neurons, activation=tf.nn.relu)\n",
    "    if is_training:\n",
    "        cell = tf.contrib.rnn.DropoutWrapper(cell, input_keep_prob=keep_prob)  \n",
    "    multi_layer_cell = tf.contrib.rnn.MultiRNNCell([cell] * n_layers)\n",
    "    rnn_outputs, states = tf.nn.dynamic_rnn(multi_layer_cell, X, dtype=tf.float32)\n",
    "    stacked_rnn_outputs = tf.reshape(rnn_outputs, [-1, n_neurons])\n",
    "    stacked_outputs = tf.layers.dense(stacked_rnn_outputs, n_outputs)\n",
    "    outputs = tf.reshape(stacked_outputs, [-1, n_steps, n_outputs])\n",
    "    outputs = outputs[:,:days,:]\n",
    "    loss = tf.reduce_sum(tf.square(outputs - y))  # forecast vs. actual   # Cost / loss function\n",
    "    optimizer = tf.train.AdamOptimizer(learning_rate=learning_rate)\n",
    "    training_op = optimizer.minimize(loss)\n",
    "    return outputs, loss, training_op\n",
    "\n",
    "outputs, loss, training_op = deep_rnn_with_dropout(X, y, is_training)\n",
    "\n",
    "correct_pred = tf.equal(tf.argmax(outputs,1), tf.argmax(y,1)) # outputs = pred\n",
    "accuracy = tf.reduce_mean(tf.cast(correct_pred, tf.float32))\n",
    "# To keep track of training's performance\n",
    "test_losses = []\n",
    "test_accuracies = []\n",
    "train_losses = []\n",
    "train_accuracies = []\n",
    "\n",
    "#sys.exit()\n",
    "\n",
    "# END GRAPH DEFINITION\n",
    "# BEGIN TF OP: TRAINING STEP\n",
    "rs = {}\n",
    "init = tf.global_variables_initializer()\n",
    "saver = tf.train.Saver()\n",
    "with tf.Session() as sess:\n",
    "    if is_training: # TRAIN & SAVE TO BE ABLE TO PREDICT INSTANTLY!\n",
    "        init.run()\n",
    "        for iteration in range(n_iterations):\n",
    "            for i in range(0,train_batches):\n",
    "                X_batch, y_batch = next_batch(\"train\",i) # X = n-days time series, y = next day to predict..  next_batch(batch_size, n_steps)\n",
    "                X_batch= np.reshape(X_batch, [-1,n_steps, n_inputs])\n",
    "                y_batch = np.reshape(y_batch, [-1,days, n_inputs])\n",
    "                sess.run([training_op, outputs], feed_dict={X: X_batch, y: y_batch}) \n",
    "            if iteration % 1 == 0:\n",
    "                mse = loss.eval(feed_dict={X: X_batch, y: y_batch})\n",
    "                print(iteration, \"\\tMSE:\", mse)\n",
    "                y_pred = sess.run(outputs, feed_dict={X: X_batch})\n",
    "                correct_pred = tf.equal(tf.argmax(y_pred,1), tf.argmax(y_batch,1))\n",
    "                accuracy = tf.reduce_mean(tf.cast(correct_pred, tf.float32))\n",
    "                train_losses.append(mse)\n",
    "                train_accuracies.append(accuracy)\n",
    "                              \n",
    "        save_path = saver.save(sess, \"/tmp/my_model.ckpt\")\n",
    "    print(\"done training\")\n",
    "\n",
    "    # Evaluate Your System on the Test Set\n",
    "    # Restore pre-trained model\n",
    "    \n",
    "    saver.restore(sess, \"/tmp/my_model.ckpt\")\n",
    "    # estimate accuracy of the model\n",
    "    for iteration in range(n_iterations):\n",
    "        for i in range(0,test_batches):\n",
    "            X_batch, y_batch,  ds_testX, ds_testY = next_batch(\"test\",i) # X = n-days time series, y = next day to predict..  next_batch(batch_size, n_steps)\n",
    "            X_batch= np.reshape(X_batch, [-1,n_steps, n_inputs])\n",
    "            y_batch = np.reshape(y_batch, [-1,days, n_inputs])\n",
    "            y_pred = sess.run(outputs, feed_dict={X: X_batch})\n",
    "            predicted2 = np.log( (1 - y_pred)/y_pred ) *batch_data.get(\"dfstd\") + batch_data.get(\"dfmean\")\n",
    "            predicted2 = predicted2[0,:days,]\n",
    "            lastdayprices = ds_testX[-1:]\n",
    "            fcast = lastdayprices * (1 + predicted2) \n",
    "        if iteration % 1 == 0:\n",
    "            correct_pred = tf.equal(tf.argmax(y_pred,1), tf.argmax(y_batch,1))\n",
    "            accuracy = tf.reduce_mean(tf.cast(correct_pred, tf.float32))\n",
    "            mse = loss.eval(feed_dict={X: X_batch, y: y_batch})\n",
    "            test_losses.append(mse)\n",
    "            test_accuracies.append(accuracy.eval())\n",
    "            print(\"mse/loss: \", mse, \"accuracy: \", accuracy.eval())\n",
    "            \n",
    "            rs[iteration]= {\"y_batch\":y_batch,\"y_pred\":y_pred, \n",
    "                    \"ds_testX\":ds_testX,\"ds_testY\":ds_testY,\n",
    "                   \"ds_y_pred\":fcast}\n",
    "    \n",
    "    print(\"done testing\")"
   ]
  },
  {
   "cell_type": "code",
   "execution_count": 11,
   "metadata": {
    "collapsed": false
   },
   "outputs": [
    {
     "data": {
      "text/plain": [
       "dict_keys(['y_batch', 'y_pred', 'ds_testY', 'ds_y_pred', 'ds_testX'])"
      ]
     },
     "execution_count": 11,
     "metadata": {},
     "output_type": "execute_result"
    }
   ],
   "source": [
    "rs[1].keys()"
   ]
  },
  {
   "cell_type": "code",
   "execution_count": 55,
   "metadata": {
    "collapsed": false
   },
   "outputs": [
    {
     "data": {
      "text/html": [
       "<div>\n",
       "<table border=\"1\" class=\"dataframe\">\n",
       "  <thead>\n",
       "    <tr style=\"text-align: right;\">\n",
       "      <th></th>\n",
       "      <th>FB</th>\n",
       "      <th>MSFT</th>\n",
       "      <th>AAPL</th>\n",
       "      <th>AMZN</th>\n",
       "      <th>GOOG</th>\n",
       "    </tr>\n",
       "  </thead>\n",
       "  <tbody>\n",
       "    <tr>\n",
       "      <th>0</th>\n",
       "      <td>115.949997</td>\n",
       "      <td>757.770020</td>\n",
       "      <td>119.870003</td>\n",
       "      <td>790.799988</td>\n",
       "      <td>62.299999</td>\n",
       "    </tr>\n",
       "    <tr>\n",
       "      <th>1</th>\n",
       "      <td>116.635002</td>\n",
       "      <td>766.000000</td>\n",
       "      <td>119.239998</td>\n",
       "      <td>794.200012</td>\n",
       "      <td>63.619999</td>\n",
       "    </tr>\n",
       "    <tr>\n",
       "      <th>2</th>\n",
       "      <td>116.930000</td>\n",
       "      <td>771.219971</td>\n",
       "      <td>119.070000</td>\n",
       "      <td>796.419983</td>\n",
       "      <td>63.520000</td>\n",
       "    </tr>\n",
       "  </tbody>\n",
       "</table>\n",
       "</div>"
      ],
      "text/plain": [
       "           FB        MSFT        AAPL        AMZN       GOOG\n",
       "0  115.949997  757.770020  119.870003  790.799988  62.299999\n",
       "1  116.635002  766.000000  119.239998  794.200012  63.619999\n",
       "2  116.930000  771.219971  119.070000  796.419983  63.520000"
      ]
     },
     "execution_count": 55,
     "metadata": {},
     "output_type": "execute_result"
    }
   ],
   "source": [
    "pd.DataFrame(rs[1].get('ds_testX')[-3:], columns = tickers)"
   ]
  },
  {
   "cell_type": "code",
   "execution_count": 56,
   "metadata": {
    "collapsed": false
   },
   "outputs": [
    {
     "data": {
      "text/html": [
       "<div>\n",
       "<table border=\"1\" class=\"dataframe\">\n",
       "  <thead>\n",
       "    <tr style=\"text-align: right;\">\n",
       "      <th></th>\n",
       "      <th>FB</th>\n",
       "      <th>MSFT</th>\n",
       "      <th>AAPL</th>\n",
       "      <th>AMZN</th>\n",
       "      <th>GOOG</th>\n",
       "    </tr>\n",
       "  </thead>\n",
       "  <tbody>\n",
       "    <tr>\n",
       "      <th>0</th>\n",
       "      <td>117.059998</td>\n",
       "      <td>770.599976</td>\n",
       "      <td>119.040001</td>\n",
       "      <td>794.559998</td>\n",
       "      <td>63.540001</td>\n",
       "    </tr>\n",
       "    <tr>\n",
       "      <th>1</th>\n",
       "      <td>116.220001</td>\n",
       "      <td>766.340027</td>\n",
       "      <td>117.400002</td>\n",
       "      <td>791.260010</td>\n",
       "      <td>63.549999</td>\n",
       "    </tr>\n",
       "    <tr>\n",
       "      <th>2</th>\n",
       "      <td>116.519997</td>\n",
       "      <td>760.590027</td>\n",
       "      <td>117.269997</td>\n",
       "      <td>789.909973</td>\n",
       "      <td>63.240002</td>\n",
       "    </tr>\n",
       "    <tr>\n",
       "      <th>3</th>\n",
       "      <td>117.250000</td>\n",
       "      <td>771.400024</td>\n",
       "      <td>118.010002</td>\n",
       "      <td>791.549988</td>\n",
       "      <td>63.279999</td>\n",
       "    </tr>\n",
       "    <tr>\n",
       "      <th>4</th>\n",
       "      <td>116.760002</td>\n",
       "      <td>772.130005</td>\n",
       "      <td>116.919998</td>\n",
       "      <td>785.049988</td>\n",
       "      <td>62.990002</td>\n",
       "    </tr>\n",
       "  </tbody>\n",
       "</table>\n",
       "</div>"
      ],
      "text/plain": [
       "           FB        MSFT        AAPL        AMZN       GOOG\n",
       "0  117.059998  770.599976  119.040001  794.559998  63.540001\n",
       "1  116.220001  766.340027  117.400002  791.260010  63.549999\n",
       "2  116.519997  760.590027  117.269997  789.909973  63.240002\n",
       "3  117.250000  771.400024  118.010002  791.549988  63.279999\n",
       "4  116.760002  772.130005  116.919998  785.049988  62.990002"
      ]
     },
     "execution_count": 56,
     "metadata": {},
     "output_type": "execute_result"
    }
   ],
   "source": [
    "pd.DataFrame(rs[1].get('ds_testY'), columns = tickers)"
   ]
  },
  {
   "cell_type": "code",
   "execution_count": 57,
   "metadata": {
    "collapsed": false
   },
   "outputs": [
    {
     "data": {
      "text/html": [
       "<div>\n",
       "<table border=\"1\" class=\"dataframe\">\n",
       "  <thead>\n",
       "    <tr style=\"text-align: right;\">\n",
       "      <th></th>\n",
       "      <th>FB</th>\n",
       "      <th>MSFT</th>\n",
       "      <th>AAPL</th>\n",
       "      <th>AMZN</th>\n",
       "      <th>GOOG</th>\n",
       "    </tr>\n",
       "  </thead>\n",
       "  <tbody>\n",
       "    <tr>\n",
       "      <th>0</th>\n",
       "      <td>120.343613</td>\n",
       "      <td>793.734680</td>\n",
       "      <td>122.546089</td>\n",
       "      <td>819.670410</td>\n",
       "      <td>65.374382</td>\n",
       "    </tr>\n",
       "    <tr>\n",
       "      <th>1</th>\n",
       "      <td>119.138268</td>\n",
       "      <td>785.784729</td>\n",
       "      <td>121.318680</td>\n",
       "      <td>811.460693</td>\n",
       "      <td>64.719597</td>\n",
       "    </tr>\n",
       "    <tr>\n",
       "      <th>2</th>\n",
       "      <td>117.797073</td>\n",
       "      <td>776.938782</td>\n",
       "      <td>119.952942</td>\n",
       "      <td>802.325684</td>\n",
       "      <td>63.991020</td>\n",
       "    </tr>\n",
       "    <tr>\n",
       "      <th>3</th>\n",
       "      <td>117.195511</td>\n",
       "      <td>772.971191</td>\n",
       "      <td>119.340370</td>\n",
       "      <td>798.228394</td>\n",
       "      <td>63.664234</td>\n",
       "    </tr>\n",
       "    <tr>\n",
       "      <th>4</th>\n",
       "      <td>115.849495</td>\n",
       "      <td>764.093445</td>\n",
       "      <td>117.969719</td>\n",
       "      <td>789.060547</td>\n",
       "      <td>62.933037</td>\n",
       "    </tr>\n",
       "  </tbody>\n",
       "</table>\n",
       "</div>"
      ],
      "text/plain": [
       "           FB        MSFT        AAPL        AMZN       GOOG\n",
       "0  120.343613  793.734680  122.546089  819.670410  65.374382\n",
       "1  119.138268  785.784729  121.318680  811.460693  64.719597\n",
       "2  117.797073  776.938782  119.952942  802.325684  63.991020\n",
       "3  117.195511  772.971191  119.340370  798.228394  63.664234\n",
       "4  115.849495  764.093445  117.969719  789.060547  62.933037"
      ]
     },
     "execution_count": 57,
     "metadata": {},
     "output_type": "execute_result"
    }
   ],
   "source": [
    "pd.DataFrame(rs[1].get('ds_y_pred'), columns = tickers)"
   ]
  },
  {
   "cell_type": "code",
   "execution_count": 58,
   "metadata": {
    "collapsed": false
   },
   "outputs": [
    {
     "data": {
      "text/plain": [
       "dict_keys([0, 1, 2, 3, 4])"
      ]
     },
     "execution_count": 58,
     "metadata": {},
     "output_type": "execute_result"
    }
   ],
   "source": [
    "rs.keys()"
   ]
  },
  {
   "cell_type": "code",
   "execution_count": 59,
   "metadata": {
    "collapsed": false
   },
   "outputs": [
    {
     "data": {
      "text/plain": [
       "<matplotlib.axes._subplots.AxesSubplot at 0x7fd56cc5d518>"
      ]
     },
     "execution_count": 59,
     "metadata": {},
     "output_type": "execute_result"
    },
    {
     "data": {
      "image/png": "[encoded data removed]",
      "text/plain": [
       "<matplotlib.figure.Figure at 0x7fd56cc698d0>"
      ]
     },
     "metadata": {},
     "output_type": "display_data"
    }
   ],
   "source": [
    "pd.DataFrame(rs[1].get('ds_testX')).plot()"
   ]
  }
 ],
 "metadata": {
  "kernelspec": {
   "display_name": "Python 3",
   "language": "python",
   "name": "python3"
  },
  "language_info": {
   "codemirror_mode": {
    "name": "ipython",
    "version": 3
   },
   "file_extension": ".py",
   "mimetype": "text/x-python",
   "name": "python",
   "nbconvert_exporter": "python",
   "pygments_lexer": "ipython3",
   "version": "3.4.3"
  }
 },
 "nbformat": 4,
 "nbformat_minor": 2
}
