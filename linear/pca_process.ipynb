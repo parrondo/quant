{
 "cells": [
  {
   "cell_type": "code",
   "execution_count": 1,
   "metadata": {
    "collapsed": false
   },
   "outputs": [
    {
     "name": "stdout",
     "output_type": "stream",
     "text": [
      "Importance of components:\n",
      "        StDev  Variance  Proportion of Variance  Cumulative Proportion\n",
      "PC1  0.465746  0.216920                0.610747               0.610747\n",
      "PC2  0.240621  0.057899                0.163016               0.773762\n",
      "PC3  0.146643  0.021504                0.060546               0.834308\n"
     ]
    }
   ],
   "source": [
    "%matplotlib inline\n",
    "import numpy as np\n",
    "import pandas as pd\n",
    "import pickle\n",
    "import matplotlib.pyplot as plt\n",
    "plt.style.use('fivethirtyeight')\n",
    "from sklearn.decomposition import PCA\n",
    "np.set_printoptions(suppress=True)\n",
    "\n",
    "# Reference / Code base: Python for Multivariate Analysis, Gatsoulis, 2016\n",
    "# https://github.com/gatsoulis/a_little_book_of_python_for_multivariate_analysis/blob/master/a_little_book_of_python_for_multivariate_analysis.ipynb\n",
    "# Theory: The PCA analysis goal is to achieve the best lowest # of dimensions / factors describing the variance\n",
    "# in the multivariate time series. The new PCA variables can be a combination of some or all original regressors. \n",
    "# Objective: reduce a number of factors explaining the data \n",
    "\n",
    "t = 150 # days\n",
    "n = 10 # tickers\n",
    "# Load sample data\n",
    "tickers  = [\"FB\",\"MSFT\",\"AAPL\", \"AMZN\",\"GOOG\",\"GS\",\"MS\",\"BAC\",\"WFC\",\"C\"]  \n",
    "tickers2  = [\"JPM\"]  \n",
    "d1 = pickle.load(open(\"/home/ubuntu/portfolio/factors/stock_data.pkl\",\"rb\"))\n",
    "d2 = d1[d1[\"ticker\"].isin(tickers)][[\"Close\",\"ticker\"]]\n",
    "ts_df = d2.reset_index().pivot(index=\"Date\", columns='ticker', values='Close')[-504:] \n",
    "X = ts_df.values\n",
    "# *** NORMALIZE ****\n",
    "X = X.astype('float32')\n",
    "X = np.nan_to_num(np.diff(np.log(X), axis=0))  # Replace nan with zero and inf with finite numbers.\n",
    "X = 1 / (1 + np.exp( (X - X.mean()) / X.std() )  )\n",
    "\n",
    "d2 = d1[d1[\"ticker\"].isin(tickers2)][[\"Close\",\"ticker\"]]\n",
    "ts_df = d2.reset_index().pivot(index=\"Date\", columns='ticker', values='Close')[-504:] #252\n",
    "y = ts_df.values\n",
    "y = y.astype('float32')\n",
    "y = np.nan_to_num(np.diff(np.log(y), axis=0))  # Replace nan with zero and inf with finite numbers.\n",
    "y = 1 / (1 + np.exp( (y - y.mean()) / y.std() )  )\n",
    "\n",
    "def pca_summary(pca, X):\n",
    "    names = [\"PC\"+str(i) for i in range(1, len(pca.explained_variance_ratio_)+1)]\n",
    "    a = np.std(pca.transform(X), axis=0)\n",
    "    a = np.reshape(a,[a.shape[0],-1])\n",
    "    v = a **2\n",
    "    b = pca.explained_variance_ratio_\n",
    "    b = np.reshape(b,[b.shape[0],-1])\n",
    "    c = np.cumsum(pca.explained_variance_ratio_)\n",
    "    c = np.reshape(c,[c.shape[0],-1])\n",
    "    columns = [\"StDev\", \"Variance\", \"Proportion of Variance\",\"Cumulative Proportion\"]\n",
    "    summary = pd.DataFrame(data = np.concatenate([a,v, b,c], axis=1), index=names, columns=columns)\n",
    "    print(\"Importance of components:\")  #eigenvectors/principal components\n",
    "    return summary\n",
    "\n",
    "pca = PCA(n_components=3)\n",
    "pca.fit(X,y)  #  training data, target labels to explain by PCA \n",
    "d = pca_summary(pca, X)\n",
    "print(d)\n",
    "# Loadings for the Principal Components (first three Eigenvectors)"
   ]
  },
  {
   "cell_type": "code",
   "execution_count": 2,
   "metadata": {
    "collapsed": false
   },
   "outputs": [
    {
     "name": "stdout",
     "output_type": "stream",
     "text": [
      "Importance of components:\n",
      "         StDev  Variance  Proportion of Variance  Cumulative Proportion\n",
      "PC1   0.465746  0.216920                0.610747               0.610747\n",
      "PC2   0.240621  0.057899                0.163016               0.773762\n",
      "PC3   0.146643  0.021504                0.060546               0.834308\n",
      "PC4   0.119116  0.014189                0.039949               0.874257\n",
      "PC5   0.113030  0.012776                0.035971               0.910228\n",
      "PC6   0.098639  0.009730                0.027394               0.937622\n",
      "PC7   0.090947  0.008271                0.023289               0.960911\n",
      "PC8   0.078805  0.006210                0.017485               0.978396\n",
      "PC9   0.063431  0.004024                0.011328               0.989724\n",
      "PC10  0.060413  0.003650                0.010276               1.000000\n"
     ]
    }
   ],
   "source": [
    "# All principle components (non filtered)\n",
    "pca = PCA()\n",
    "pca.fit(X,y)  #  training data, target labels to explain by PCA \n",
    "d = pca_summary(pca, X)\n",
    "print(d) # First 3 PCs explain 83.4% of dataset returns variance..."
   ]
  },
  {
   "cell_type": "code",
   "execution_count": 3,
   "metadata": {
    "collapsed": false
   },
   "outputs": [
    {
     "data": {
      "image/png": "[encoded data removed]",
      "text/plain": [
       "<matplotlib.figure.Figure at 0x7f0c90bfd6a0>"
      ]
     },
     "metadata": {},
     "output_type": "display_data"
    }
   ],
   "source": [
    "# Show how PCs explain dataset variance...\n",
    "y = np.std(pca.transform(X), axis=0)**2\n",
    "x = np.arange(len(y)) + 1\n",
    "plt.plot(x, y, \"o-\")\n",
    "plt.xticks(x, [\"Comp.\"+str(i) for i in x], rotation=60)\n",
    "plt.ylabel(\"Variance\")\n",
    "plt.show()"
   ]
  },
  {
   "cell_type": "code",
   "execution_count": 4,
   "metadata": {
    "collapsed": false
   },
   "outputs": [
    {
     "name": "stdout",
     "output_type": "stream",
     "text": [
      "[-0.2465682  -0.26365367 -0.37998663 -0.38455798 -0.25379034 -0.24117375\n",
      " -0.36275844 -0.39779941 -0.26983553 -0.30363235]\n",
      "[ 0.24437071  0.46214387 -0.30719897 -0.2560316   0.43888575  0.38064916\n",
      " -0.2180163  -0.2581693   0.27178067 -0.20302929]\n",
      "[-0.87498396  0.40626547  0.0893408   0.02989671  0.10079174  0.17792507\n",
      " -0.00896691  0.03599074 -0.12031007  0.05300273]\n"
     ]
    }
   ],
   "source": [
    "# PC loadings \n",
    "print(pca.components_[0])\n",
    "print(pca.components_[1])\n",
    "print(pca.components_[2])"
   ]
  },
  {
   "cell_type": "code",
   "execution_count": 5,
   "metadata": {
    "collapsed": true
   },
   "outputs": [],
   "source": [
    "# Regressors: PC linear combination of variables as below..\n",
    "# i.e. for PC1 value is: [\"FB\",\"MSFT\",\"AAPL\", \"AMZN\",\"GOOG\",\"GS\",\"MS\",\"BAC\",\"WFC\",\"C\"]\n",
    "#[-0.24656828*FB Norm Ret +  -0.26365367*MSFT Norm Ret + -0.37998663*AAPL Norm Ret +\n",
    "# -0.38455798*AMZN Norm Ret + -0.25379034*GOOG Norm Return + -0.24117375*GS Norm Return +\n",
    "# -0.36275844*MS Norm Ret + -0.39779941*BAC Norm Ret + -0.26983553*WFC Norm Ret + -0.30363235*C Norm Ret]\n",
    "# one can then calculate PC values given linear factor loadings, etc..."
   ]
  }
 ],
 "metadata": {
  "kernelspec": {
   "display_name": "Python 3",
   "language": "python",
   "name": "python3"
  },
  "language_info": {
   "codemirror_mode": {
    "name": "ipython",
    "version": 3
   },
   "file_extension": ".py",
   "mimetype": "text/x-python",
   "name": "python",
   "nbconvert_exporter": "python",
   "pygments_lexer": "ipython3",
   "version": "3.4.3"
  }
 },
 "nbformat": 4,
 "nbformat_minor": 2
}
