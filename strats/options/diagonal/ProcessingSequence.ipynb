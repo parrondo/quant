{
 "cells": [
  {
   "cell_type": "code",
   "execution_count": 1,
   "metadata": {
    "collapsed": false
   },
   "outputs": [
    {
     "name": "stdout",
     "output_type": "stream",
     "text": [
      "total strategies: 9135\n",
      "total strategies sampled in this forward test: 30\n",
      "Margin equals to max loss\n",
      "WIN loop 2\n",
      "ND,FD,NO,FO,daysForward 9 16 [0.040000000000000001, 0.069999999999999993] [0.01, 0.040000000000000001] 8\n",
      "found records for 9 16:  10104\n",
      "         date   close  f_close     f_date    pnl  contracts  total_pnl    cum_sum\n",
      "0  2017-03-15  136.99   131.25 2017-03-23  2.040         30     6120.0  $6,120.00\n",
      "1  2017-03-22  134.56   144.90 2017-03-30  0.620         30     1860.0  $7,980.00\n",
      "2  2017-04-12  122.84   127.90 2017-04-20  1.240         30     3720.0 $11,700.00\n",
      "3  2017-04-19  125.40   144.65 2017-04-27 -0.415         30    -1245.0 $10,455.00\n",
      "4  2017-04-26  144.33   150.97 2017-05-04  0.150         30      450.0 $10,905.00\n",
      "5  2017-05-03  147.50   152.70 2017-05-11 -0.160         30     -480.0 $10,425.00\n",
      "6  2017-05-10  153.29   131.65 2017-05-18 -0.075         30     -225.0 $10,200.00\n",
      "7  2017-05-17  130.40   151.48 2017-05-25 -0.160         30     -480.0  $9,720.00\n",
      "8  2017-05-24  152.22   157.74 2017-06-01  2.345         30     7035.0 $16,755.00\n",
      "9  2017-05-31  154.50   157.12 2017-06-08 -0.835         30    -2505.0 $14,250.00\n",
      "10 2017-06-07  154.07   157.10 2017-06-15  0.505         30     1515.0 $15,765.00\n",
      "11 2017-06-14  159.15   163.38 2017-06-22 -0.700         30    -2100.0 $13,665.00\n",
      "12 2017-06-21  160.65   162.00 2017-06-29  1.870         30     5610.0 $19,275.00\n",
      "13 2017-06-28  166.99   151.18 2017-07-06  0.030         30       90.0 $19,365.00\n",
      "WIN loop 3\n",
      "ND,FD,NO,FO,daysForward 9 23 [0.040000000000000001, 0.069999999999999993] [0.01, 0.040000000000000001] 8\n",
      "found records for 9 23:  10036\n",
      "         date   close  f_close     f_date    pnl  contracts  total_pnl    cum_sum\n",
      "0  2017-03-15  136.99   131.25 2017-03-23  1.695         30     5085.0  $5,085.00\n",
      "1  2017-03-29  144.20   139.75 2017-04-06  0.575         30     1725.0  $6,810.00\n",
      "2  2017-04-12  122.84   127.90 2017-04-20  1.515         30     4545.0 $11,355.00\n",
      "3  2017-04-19  125.40   144.65 2017-04-27 -2.420         30    -7260.0  $4,095.00\n",
      "4  2017-04-26  144.33   150.97 2017-05-04  0.585         30     1755.0  $5,850.00\n",
      "5  2017-05-03  147.50   152.70 2017-05-11  0.620         30     1860.0  $7,710.00\n",
      "6  2017-05-10  153.29   131.65 2017-05-18 -2.720         30    -8160.0   $-450.00\n",
      "7  2017-05-17  130.40   151.48 2017-05-25  0.475         30     1425.0    $975.00\n",
      "8  2017-05-24  152.22   157.74 2017-06-01  2.970         30     8910.0  $9,885.00\n",
      "9  2017-05-31  154.50   157.12 2017-06-08 -0.095         30     -285.0  $9,600.00\n",
      "10 2017-06-07  154.07   157.10 2017-06-15  2.485         30     7455.0 $17,055.00\n",
      "11 2017-06-14  159.15   163.38 2017-06-22  0.195         30      585.0 $17,640.00\n",
      "12 2017-06-21  160.65   162.00 2017-06-29  3.050         30     9150.0 $26,790.00\n",
      "13 2017-06-28  166.99   151.18 2017-07-06 -1.435         30    -4305.0 $22,485.00\n",
      "done with forward test\n",
      "done\n"
     ]
    }
   ],
   "source": [
    "import warnings\n",
    "warnings.filterwarnings(\"ignore\") \n",
    "warnings.simplefilter(\"ignore\", category=PendingDeprecationWarning)\n",
    "# https://stackoverflow.com/questions/40993553/unable-to-suppress-deprecation-warnings\n",
    "#1. Load options ts data to db\n",
    "\"\"\"\n",
    "from DataLoader import DataLoader as dl\n",
    "ticker = [\"SVXY\"]  #[\"UVXY\",\"SVXY\"] # [\"TEST\"] #\n",
    "path = \"C://Users//Max//Documents//Research//tester1//data\"\n",
    "for t in ticker:\n",
    "    p = path + \"//\" + t.lower() + \".csv\"\n",
    "    dl().saveOptionsDataToDb(t, p.lower())\n",
    "print(\"done\")\n",
    "\"\"\"\n",
    "\n",
    "#2. Load stock ts data to db\n",
    "\"\"\"\n",
    "from DataLoader import DataLoader as dl \n",
    "ticker = \"UVXY\"\n",
    "_id = dl().importUnderlyingTsToDb(ticker, \"yahoo finance\")\n",
    "print(\"done\")\n",
    "\"\"\"\n",
    "#3. Define and run forward test\n",
    "from ForwardTester import ForwardTester as ft\n",
    "ticker = \"SVXY\"\n",
    "optionStrategy = \"ln\" \n",
    "options_ts_id = \"59765a722c17433ba06e16dd\"  # ObjectId(\"59765a722c17433ba06e16dd\")\n",
    "ft(ticker, optionStrategy, options_ts_id, p_contracts = 30, \n",
    "                 executionType = \"mid\", stockPerc = 0.3, minimumSamples = 30, \n",
    "                 days_forward  = None, p_NearDiff = None, p_FarDiff = None, \n",
    "                 p_NearOTM = None, p_FarOTM = None, NearFarMaxSpread = None).runForwardTest()\n",
    "\n",
    "print(\"done\")"
   ]
  },
  {
   "cell_type": "code",
   "execution_count": 2,
   "metadata": {
    "collapsed": true
   },
   "outputs": [],
   "source": [
    "#4. test functions to display test results saved in Mongo (this will go to Node.js)\n",
    "# getAllExperiments():\n",
    "\n",
    "# getExperiment(_id):\n",
    "\n",
    "# getExperimentWinPnL()\n",
    "\n",
    "# getExperimentLosePnL()\n",
    "\n",
    "# getStrategyTrades()\n",
    "\n",
    "# exportTradesToCSV()\n",
    "\n",
    "# exportPnLToCSV()\n"
   ]
  }
 ],
 "metadata": {
  "anaconda-cloud": {},
  "kernelspec": {
   "display_name": "Python [default]",
   "language": "python",
   "name": "python3"
  },
  "language_info": {
   "codemirror_mode": {
    "name": "ipython",
    "version": 3
   },
   "file_extension": ".py",
   "mimetype": "text/x-python",
   "name": "python",
   "nbconvert_exporter": "python",
   "pygments_lexer": "ipython3",
   "version": "3.5.2"
  }
 },
 "nbformat": 4,
 "nbformat_minor": 1
}
